{
 "cells": [
  {
   "cell_type": "code",
   "execution_count": 245,
   "id": "6f6be375",
   "metadata": {},
   "outputs": [],
   "source": [
    "import os\n",
    "import pandas as pd\n",
    "import numpy as np\n",
    "from dotenv import load_dotenv\n",
    "from scipy.stats import mannwhitneyu, ttest_ind, levene, shapiro\n",
    "import seaborn as sns\n",
    "import matplotlib.pyplot as plt\n",
    "from helpers import *\n",
    "\n",
    "load_dotenv()\n",
    "control_file = os.getenv('control_file')\n",
    "test_file = os.getenv('test_file')\n",
    "control_group = pd.read_csv(control_file, sep=';')\n",
    "test_group = pd.read_csv(test_file, sep=';')\n",
    "df = pd.concat([control_group, test_group])\n"
   ]
  },
  {
   "cell_type": "markdown",
   "id": "abad0c54",
   "metadata": {},
   "source": [
    "note - all the helpers functions can be found in the helpers.py file in this folder"
   ]
  },
  {
   "cell_type": "markdown",
   "id": "fa3b32c8",
   "metadata": {},
   "source": [
    "# EDA"
   ]
  },
  {
   "cell_type": "markdown",
   "id": "459d1500",
   "metadata": {},
   "source": [
    "Let's start by having a brief overview of the data"
   ]
  },
  {
   "cell_type": "code",
   "execution_count": 246,
   "id": "8c6d3736",
   "metadata": {},
   "outputs": [
    {
     "data": {
      "text/html": [
       "<div>\n",
       "<style scoped>\n",
       "    .dataframe tbody tr th:only-of-type {\n",
       "        vertical-align: middle;\n",
       "    }\n",
       "\n",
       "    .dataframe tbody tr th {\n",
       "        vertical-align: top;\n",
       "    }\n",
       "\n",
       "    .dataframe thead th {\n",
       "        text-align: right;\n",
       "    }\n",
       "</style>\n",
       "<table border=\"1\" class=\"dataframe\">\n",
       "  <thead>\n",
       "    <tr style=\"text-align: right;\">\n",
       "      <th></th>\n",
       "      <th>Campaign Name</th>\n",
       "      <th>Date</th>\n",
       "      <th>Spend [USD]</th>\n",
       "      <th># of Impressions</th>\n",
       "      <th>Reach</th>\n",
       "      <th># of Website Clicks</th>\n",
       "      <th># of Searches</th>\n",
       "      <th># of View Content</th>\n",
       "      <th># of Add to Cart</th>\n",
       "      <th># of Purchase</th>\n",
       "    </tr>\n",
       "  </thead>\n",
       "  <tbody>\n",
       "    <tr>\n",
       "      <th>0</th>\n",
       "      <td>Control Campaign</td>\n",
       "      <td>1.08.2019</td>\n",
       "      <td>2280</td>\n",
       "      <td>82702.0</td>\n",
       "      <td>56930.0</td>\n",
       "      <td>7016.0</td>\n",
       "      <td>2290.0</td>\n",
       "      <td>2159.0</td>\n",
       "      <td>1819.0</td>\n",
       "      <td>618.0</td>\n",
       "    </tr>\n",
       "    <tr>\n",
       "      <th>1</th>\n",
       "      <td>Control Campaign</td>\n",
       "      <td>2.08.2019</td>\n",
       "      <td>1757</td>\n",
       "      <td>121040.0</td>\n",
       "      <td>102513.0</td>\n",
       "      <td>8110.0</td>\n",
       "      <td>2033.0</td>\n",
       "      <td>1841.0</td>\n",
       "      <td>1219.0</td>\n",
       "      <td>511.0</td>\n",
       "    </tr>\n",
       "    <tr>\n",
       "      <th>2</th>\n",
       "      <td>Control Campaign</td>\n",
       "      <td>3.08.2019</td>\n",
       "      <td>2343</td>\n",
       "      <td>131711.0</td>\n",
       "      <td>110862.0</td>\n",
       "      <td>6508.0</td>\n",
       "      <td>1737.0</td>\n",
       "      <td>1549.0</td>\n",
       "      <td>1134.0</td>\n",
       "      <td>372.0</td>\n",
       "    </tr>\n",
       "    <tr>\n",
       "      <th>3</th>\n",
       "      <td>Control Campaign</td>\n",
       "      <td>4.08.2019</td>\n",
       "      <td>1940</td>\n",
       "      <td>72878.0</td>\n",
       "      <td>61235.0</td>\n",
       "      <td>3065.0</td>\n",
       "      <td>1042.0</td>\n",
       "      <td>982.0</td>\n",
       "      <td>1183.0</td>\n",
       "      <td>340.0</td>\n",
       "    </tr>\n",
       "    <tr>\n",
       "      <th>4</th>\n",
       "      <td>Control Campaign</td>\n",
       "      <td>5.08.2019</td>\n",
       "      <td>1835</td>\n",
       "      <td>NaN</td>\n",
       "      <td>NaN</td>\n",
       "      <td>NaN</td>\n",
       "      <td>NaN</td>\n",
       "      <td>NaN</td>\n",
       "      <td>NaN</td>\n",
       "      <td>NaN</td>\n",
       "    </tr>\n",
       "  </tbody>\n",
       "</table>\n",
       "</div>"
      ],
      "text/plain": [
       "      Campaign Name       Date  Spend [USD]  # of Impressions     Reach  \\\n",
       "0  Control Campaign  1.08.2019         2280           82702.0   56930.0   \n",
       "1  Control Campaign  2.08.2019         1757          121040.0  102513.0   \n",
       "2  Control Campaign  3.08.2019         2343          131711.0  110862.0   \n",
       "3  Control Campaign  4.08.2019         1940           72878.0   61235.0   \n",
       "4  Control Campaign  5.08.2019         1835               NaN       NaN   \n",
       "\n",
       "   # of Website Clicks  # of Searches  # of View Content  # of Add to Cart  \\\n",
       "0               7016.0         2290.0             2159.0            1819.0   \n",
       "1               8110.0         2033.0             1841.0            1219.0   \n",
       "2               6508.0         1737.0             1549.0            1134.0   \n",
       "3               3065.0         1042.0              982.0            1183.0   \n",
       "4                  NaN            NaN                NaN               NaN   \n",
       "\n",
       "   # of Purchase  \n",
       "0          618.0  \n",
       "1          511.0  \n",
       "2          372.0  \n",
       "3          340.0  \n",
       "4            NaN  "
      ]
     },
     "execution_count": 246,
     "metadata": {},
     "output_type": "execute_result"
    }
   ],
   "source": [
    "df.head() # look at the table"
   ]
  },
  {
   "cell_type": "code",
   "execution_count": 247,
   "id": "886bf689",
   "metadata": {},
   "outputs": [
    {
     "name": "stdout",
     "output_type": "stream",
     "text": [
      "<class 'pandas.core.frame.DataFrame'>\n",
      "Index: 60 entries, 0 to 29\n",
      "Data columns (total 10 columns):\n",
      " #   Column               Non-Null Count  Dtype  \n",
      "---  ------               --------------  -----  \n",
      " 0   Campaign Name        60 non-null     object \n",
      " 1   Date                 60 non-null     object \n",
      " 2   Spend [USD]          60 non-null     int64  \n",
      " 3   # of Impressions     59 non-null     float64\n",
      " 4   Reach                59 non-null     float64\n",
      " 5   # of Website Clicks  59 non-null     float64\n",
      " 6   # of Searches        59 non-null     float64\n",
      " 7   # of View Content    59 non-null     float64\n",
      " 8   # of Add to Cart     59 non-null     float64\n",
      " 9   # of Purchase        59 non-null     float64\n",
      "dtypes: float64(7), int64(1), object(2)\n",
      "memory usage: 5.2+ KB\n"
     ]
    }
   ],
   "source": [
    "df.info() # get infos"
   ]
  },
  {
   "cell_type": "code",
   "execution_count": 248,
   "id": "791eacfc",
   "metadata": {},
   "outputs": [
    {
     "name": "stdout",
     "output_type": "stream",
     "text": [
      "\n",
      "Missing values:\n",
      "# of Impressions       1\n",
      "Reach                  1\n",
      "# of Website Clicks    1\n",
      "# of Searches          1\n",
      "# of View Content      1\n",
      "# of Add to Cart       1\n",
      "# of Purchase          1\n",
      "dtype: int64\n",
      "\n",
      "Percentage of missing values:\n",
      "# of Impressions       1.666667\n",
      "Reach                  1.666667\n",
      "# of Website Clicks    1.666667\n",
      "# of Searches          1.666667\n",
      "# of View Content      1.666667\n",
      "# of Add to Cart       1.666667\n",
      "# of Purchase          1.666667\n",
      "dtype: float64\n"
     ]
    }
   ],
   "source": [
    "# Check for missing values (total per column)\n",
    "missing = df.isnull().sum()\n",
    "missing = missing[missing > 0]  # Show only columns with missing values\n",
    "\n",
    "print(\"\\nMissing values:\")\n",
    "print(missing)\n",
    "\n",
    "# Optional: percentage of missing values\n",
    "missing_percent = df.isnull().mean() * 100\n",
    "print(\"\\nPercentage of missing values:\")\n",
    "print(missing_percent[missing_percent > 0].sort_values(ascending=False))"
   ]
  },
  {
   "cell_type": "code",
   "execution_count": 249,
   "id": "c076e573",
   "metadata": {},
   "outputs": [],
   "source": [
    "# drop the missing value:\n",
    "df.dropna(inplace=True)"
   ]
  },
  {
   "cell_type": "code",
   "execution_count": 250,
   "id": "4da83de7",
   "metadata": {},
   "outputs": [
    {
     "data": {
      "text/plain": [
       "Index(['campaign_name', 'date', 'spend_[usd]', 'impressions', 'reach',\n",
       "       'website_clicks', 'searches', 'view_content', 'add_to_cart',\n",
       "       'purchase'],\n",
       "      dtype='object')"
      ]
     },
     "execution_count": 250,
     "metadata": {},
     "output_type": "execute_result"
    }
   ],
   "source": [
    "# fix naming of columns\n",
    "df.columns = (\n",
    "    df.columns\n",
    "    .str.replace('# of', '')\n",
    "    .str.strip()\n",
    "    .str.lower()\n",
    "    .str.replace(' ', '_')\n",
    ")\n",
    "df.columns\n"
   ]
  },
  {
   "cell_type": "code",
   "execution_count": 251,
   "id": "010dc6fc",
   "metadata": {},
   "outputs": [
    {
     "name": "stdout",
     "output_type": "stream",
     "text": [
      "<class 'pandas.core.frame.DataFrame'>\n",
      "Index: 59 entries, 0 to 29\n",
      "Data columns (total 10 columns):\n",
      " #   Column          Non-Null Count  Dtype         \n",
      "---  ------          --------------  -----         \n",
      " 0   campaign_name   59 non-null     object        \n",
      " 1   date            59 non-null     datetime64[ns]\n",
      " 2   spend_[usd]     59 non-null     int64         \n",
      " 3   impressions     59 non-null     float64       \n",
      " 4   reach           59 non-null     float64       \n",
      " 5   website_clicks  59 non-null     float64       \n",
      " 6   searches        59 non-null     float64       \n",
      " 7   view_content    59 non-null     float64       \n",
      " 8   add_to_cart     59 non-null     float64       \n",
      " 9   purchase        59 non-null     float64       \n",
      "dtypes: datetime64[ns](1), float64(7), int64(1), object(1)\n",
      "memory usage: 5.1+ KB\n"
     ]
    }
   ],
   "source": [
    "# transform date into datetime format\n",
    "df['date'] = pd.to_datetime(df['date'],format=\"%d.%m.%Y\") # convert date\n",
    "df.info()"
   ]
  },
  {
   "cell_type": "markdown",
   "id": "98e3afb2",
   "metadata": {},
   "source": [
    "Create new variable to see changes in the checkout conversion efficiency "
   ]
  },
  {
   "cell_type": "code",
   "execution_count": 252,
   "id": "97bec016",
   "metadata": {},
   "outputs": [],
   "source": [
    "# create new column\n",
    "df['checkout_conversion_rate'] = df['purchase']/df['add_to_cart']"
   ]
  },
  {
   "cell_type": "markdown",
   "id": "2316fe32",
   "metadata": {},
   "source": [
    "Now we can visualize the data"
   ]
  },
  {
   "cell_type": "code",
   "execution_count": 253,
   "id": "4b575d49",
   "metadata": {},
   "outputs": [
    {
     "data": {
      "image/png": "[encoded data removed]",
      "text/plain": [
       "<Figure size 1500x1500 with 9 Axes>"
      ]
     },
     "metadata": {},
     "output_type": "display_data"
    },
    {
     "name": "stdout",
     "output_type": "stream",
     "text": [
      "Spending\n",
      " campaign_name\n",
      "Control Campaign    2304.068966\n",
      "Test Campaign       2563.066667\n",
      "Name: spend_[usd], dtype: float64\n",
      "Reach\n",
      " campaign_name\n",
      "Control Campaign    88844.931034\n",
      "Test Campaign       53491.566667\n",
      "Name: reach, dtype: float64\n",
      "Add to Cart\n",
      " campaign_name\n",
      "Control Campaign    1300.000000\n",
      "Test Campaign        881.533333\n",
      "Name: add_to_cart, dtype: float64\n",
      "Purchase\n",
      " campaign_name\n",
      "Control Campaign    522.793103\n",
      "Test Campaign       521.233333\n",
      "Name: purchase, dtype: float64\n",
      "Checkout Conversion Rate\n",
      " campaign_name\n",
      "Control Campaign    0.457179\n",
      "Test Campaign       0.617949\n",
      "Name: checkout_conversion_rate, dtype: float64\n"
     ]
    }
   ],
   "source": [
    "plot_numeric(df, sns.boxplot)\n",
    "print('Spending\\n',df.groupby('campaign_name')['spend_[usd]'].mean())\n",
    "print('Reach\\n',df.groupby('campaign_name')['reach'].mean())\n",
    "print('Add to Cart\\n',df.groupby('campaign_name')['add_to_cart'].mean())\n",
    "print('Purchase\\n',df.groupby('campaign_name')['purchase'].mean())\n",
    "print('Checkout Conversion Rate\\n',df.groupby('campaign_name')['checkout_conversion_rate'].mean())\n"
   ]
  },
  {
   "cell_type": "markdown",
   "id": "850b2e17",
   "metadata": {},
   "source": [
    "From these plots we notice a few outliers in the data. We can also see that Spend, Checkout Conversion Rate and Website Clicks seem higher in the test campaigns, while impressions, reach and add to cart seems higher in the control campaing. "
   ]
  },
  {
   "cell_type": "code",
   "execution_count": 254,
   "id": "dc97c811",
   "metadata": {},
   "outputs": [
    {
     "data": {
      "text/html": [
       "<div>\n",
       "<style scoped>\n",
       "    .dataframe tbody tr th:only-of-type {\n",
       "        vertical-align: middle;\n",
       "    }\n",
       "\n",
       "    .dataframe tbody tr th {\n",
       "        vertical-align: top;\n",
       "    }\n",
       "\n",
       "    .dataframe thead th {\n",
       "        text-align: right;\n",
       "    }\n",
       "</style>\n",
       "<table border=\"1\" class=\"dataframe\">\n",
       "  <thead>\n",
       "    <tr style=\"text-align: right;\">\n",
       "      <th></th>\n",
       "      <th>spend_[usd]</th>\n",
       "      <th>impressions</th>\n",
       "      <th>reach</th>\n",
       "      <th>website_clicks</th>\n",
       "      <th>searches</th>\n",
       "      <th>view_content</th>\n",
       "      <th>add_to_cart</th>\n",
       "      <th>purchase</th>\n",
       "      <th>checkout_conversion_rate</th>\n",
       "    </tr>\n",
       "  </thead>\n",
       "  <tbody>\n",
       "    <tr>\n",
       "      <th>spend_[usd]</th>\n",
       "      <td>1.000000</td>\n",
       "      <td>-0.061667</td>\n",
       "      <td>-0.111151</td>\n",
       "      <td>-0.057257</td>\n",
       "      <td>0.021775</td>\n",
       "      <td>-0.020850</td>\n",
       "      <td>-0.143060</td>\n",
       "      <td>0.031446</td>\n",
       "      <td>0.171059</td>\n",
       "    </tr>\n",
       "    <tr>\n",
       "      <th>impressions</th>\n",
       "      <td>-0.061667</td>\n",
       "      <td>1.000000</td>\n",
       "      <td>0.888076</td>\n",
       "      <td>-0.211908</td>\n",
       "      <td>-0.176981</td>\n",
       "      <td>-0.066400</td>\n",
       "      <td>0.279214</td>\n",
       "      <td>0.051899</td>\n",
       "      <td>-0.140381</td>\n",
       "    </tr>\n",
       "    <tr>\n",
       "      <th>reach</th>\n",
       "      <td>-0.111151</td>\n",
       "      <td>0.888076</td>\n",
       "      <td>1.000000</td>\n",
       "      <td>-0.271639</td>\n",
       "      <td>-0.126307</td>\n",
       "      <td>-0.035573</td>\n",
       "      <td>0.241364</td>\n",
       "      <td>0.038860</td>\n",
       "      <td>-0.116472</td>\n",
       "    </tr>\n",
       "    <tr>\n",
       "      <th>website_clicks</th>\n",
       "      <td>-0.057257</td>\n",
       "      <td>-0.211908</td>\n",
       "      <td>-0.271639</td>\n",
       "      <td>1.000000</td>\n",
       "      <td>0.369445</td>\n",
       "      <td>0.418337</td>\n",
       "      <td>-0.000277</td>\n",
       "      <td>-0.033163</td>\n",
       "      <td>-0.039958</td>\n",
       "    </tr>\n",
       "    <tr>\n",
       "      <th>searches</th>\n",
       "      <td>0.021775</td>\n",
       "      <td>-0.176981</td>\n",
       "      <td>-0.126307</td>\n",
       "      <td>0.369445</td>\n",
       "      <td>1.000000</td>\n",
       "      <td>0.890481</td>\n",
       "      <td>0.029575</td>\n",
       "      <td>0.035524</td>\n",
       "      <td>-0.049143</td>\n",
       "    </tr>\n",
       "    <tr>\n",
       "      <th>view_content</th>\n",
       "      <td>-0.020850</td>\n",
       "      <td>-0.066400</td>\n",
       "      <td>-0.035573</td>\n",
       "      <td>0.418337</td>\n",
       "      <td>0.890481</td>\n",
       "      <td>1.000000</td>\n",
       "      <td>0.148539</td>\n",
       "      <td>0.059368</td>\n",
       "      <td>-0.128422</td>\n",
       "    </tr>\n",
       "    <tr>\n",
       "      <th>add_to_cart</th>\n",
       "      <td>-0.143060</td>\n",
       "      <td>0.279214</td>\n",
       "      <td>0.241364</td>\n",
       "      <td>-0.000277</td>\n",
       "      <td>0.029575</td>\n",
       "      <td>0.148539</td>\n",
       "      <td>1.000000</td>\n",
       "      <td>0.385706</td>\n",
       "      <td>-0.645604</td>\n",
       "    </tr>\n",
       "    <tr>\n",
       "      <th>purchase</th>\n",
       "      <td>0.031446</td>\n",
       "      <td>0.051899</td>\n",
       "      <td>0.038860</td>\n",
       "      <td>-0.033163</td>\n",
       "      <td>0.035524</td>\n",
       "      <td>0.059368</td>\n",
       "      <td>0.385706</td>\n",
       "      <td>1.000000</td>\n",
       "      <td>0.335874</td>\n",
       "    </tr>\n",
       "    <tr>\n",
       "      <th>checkout_conversion_rate</th>\n",
       "      <td>0.171059</td>\n",
       "      <td>-0.140381</td>\n",
       "      <td>-0.116472</td>\n",
       "      <td>-0.039958</td>\n",
       "      <td>-0.049143</td>\n",
       "      <td>-0.128422</td>\n",
       "      <td>-0.645604</td>\n",
       "      <td>0.335874</td>\n",
       "      <td>1.000000</td>\n",
       "    </tr>\n",
       "  </tbody>\n",
       "</table>\n",
       "</div>"
      ],
      "text/plain": [
       "                          spend_[usd]  impressions     reach  website_clicks  \\\n",
       "spend_[usd]                  1.000000    -0.061667 -0.111151       -0.057257   \n",
       "impressions                 -0.061667     1.000000  0.888076       -0.211908   \n",
       "reach                       -0.111151     0.888076  1.000000       -0.271639   \n",
       "website_clicks              -0.057257    -0.211908 -0.271639        1.000000   \n",
       "searches                     0.021775    -0.176981 -0.126307        0.369445   \n",
       "view_content                -0.020850    -0.066400 -0.035573        0.418337   \n",
       "add_to_cart                 -0.143060     0.279214  0.241364       -0.000277   \n",
       "purchase                     0.031446     0.051899  0.038860       -0.033163   \n",
       "checkout_conversion_rate     0.171059    -0.140381 -0.116472       -0.039958   \n",
       "\n",
       "                          searches  view_content  add_to_cart  purchase  \\\n",
       "spend_[usd]               0.021775     -0.020850    -0.143060  0.031446   \n",
       "impressions              -0.176981     -0.066400     0.279214  0.051899   \n",
       "reach                    -0.126307     -0.035573     0.241364  0.038860   \n",
       "website_clicks            0.369445      0.418337    -0.000277 -0.033163   \n",
       "searches                  1.000000      0.890481     0.029575  0.035524   \n",
       "view_content              0.890481      1.000000     0.148539  0.059368   \n",
       "add_to_cart               0.029575      0.148539     1.000000  0.385706   \n",
       "purchase                  0.035524      0.059368     0.385706  1.000000   \n",
       "checkout_conversion_rate -0.049143     -0.128422    -0.645604  0.335874   \n",
       "\n",
       "                          checkout_conversion_rate  \n",
       "spend_[usd]                               0.171059  \n",
       "impressions                              -0.140381  \n",
       "reach                                    -0.116472  \n",
       "website_clicks                           -0.039958  \n",
       "searches                                 -0.049143  \n",
       "view_content                             -0.128422  \n",
       "add_to_cart                              -0.645604  \n",
       "purchase                                  0.335874  \n",
       "checkout_conversion_rate                  1.000000  "
      ]
     },
     "execution_count": 254,
     "metadata": {},
     "output_type": "execute_result"
    }
   ],
   "source": [
    "import seaborn as sns\n",
    "import matplotlib.pyplot as plt\n",
    "\n",
    "# Select only numeric columns\n",
    "numeric_df = df.select_dtypes(include=['int64', 'float64'])\n",
    "\n",
    "# Compute correlation matrix\n",
    "corr_matrix = numeric_df.corr()\n",
    "corr_matrix\n",
    "# # Plotting the correlation matrix with a heatmap\n",
    "# plt.figure(figsize=(10, 8))\n",
    "# sns.heatmap(corr_matrix, annot=True, cmap='coolwarm')\n",
    "# plt.title('Correlation Matrix')\n",
    "# plt.show()\n",
    "\n"
   ]
  },
  {
   "cell_type": "markdown",
   "id": "27af0da1",
   "metadata": {},
   "source": [
    "From the correlation analysis we notice that Reach and Impression have high correlation, as well as View Content and Searches, so the A/B test will probably present similar results between these variables. \n",
    "We also notice that spending and add to cart have a weak negative correlation, and spending have purchase have a very weak correlation (so increase spending doesn't seem to necessarily increase purchase). However there is a slighly positive correlation between spending and conversion rate. "
   ]
  },
  {
   "cell_type": "markdown",
   "id": "0f1ee541",
   "metadata": {},
   "source": [
    "To avoid skewing the A/B testing, let's remove the outliers"
   ]
  },
  {
   "cell_type": "code",
   "execution_count": 255,
   "id": "8e89946b",
   "metadata": {},
   "outputs": [
    {
     "name": "stdout",
     "output_type": "stream",
     "text": [
      "Row 28 → outlier in column 'searches' (value = 28    4891.0\n",
      "28    1920.0\n",
      "Name: searches, dtype: float64)\n",
      "Row 28 → outlier in column 'view_content' (value = 28    4219.0\n",
      "28    1240.0\n",
      "Name: view_content, dtype: float64)\n",
      "Row 29 → outlier in column 'checkout_conversion_rate' (value = 29    1.515837\n",
      "29    0.553191\n",
      "Name: checkout_conversion_rate, dtype: float64)\n"
     ]
    }
   ],
   "source": [
    "# check and remove outliers\n",
    "numeric_cols = df.select_dtypes(include=[\"int\",'float']).columns.to_list()\n",
    "cleaned_df = remove_outliers_iqr(df, numeric_cols)\n",
    "# check and remove the outliers"
   ]
  },
  {
   "cell_type": "markdown",
   "id": "7449f9e5",
   "metadata": {},
   "source": [
    "# A/B Test"
   ]
  },
  {
   "cell_type": "markdown",
   "id": "836388e6",
   "metadata": {},
   "source": [
    "Let's start by checking for normality, to understand if we'll use the T-test (if both groups are Normally Distributed) or the Mann-Whitney U test."
   ]
  },
  {
   "cell_type": "code",
   "execution_count": 256,
   "id": "edeeb73e",
   "metadata": {},
   "outputs": [
    {
     "name": "stdout",
     "output_type": "stream",
     "text": [
      "spend_[usd]: Control is Normal and Test is Normal\n",
      "impressions: Control is Normal and Test is Normal\n",
      "reach: Control is Normal and Test is Normal\n",
      "website_clicks: Control is Normal and Test is Not Normal\n",
      "searches: Control is Normal and Test is Not Normal\n",
      "view_content: Control is Normal and Test is Normal\n",
      "add_to_cart: Control is Normal and Test is Not Normal\n",
      "purchase: Control is Normal and Test is Not Normal\n",
      "checkout_conversion_rate: Control is Normal and Test is Normal\n"
     ]
    }
   ],
   "source": [
    "# check for normality\n",
    "for col in numeric_cols:\n",
    "    control = cleaned_df[cleaned_df[\"campaign_name\"] == \"Control Campaign\"][col]\n",
    "    test = cleaned_df[cleaned_df[\"campaign_name\"] == \"Test Campaign\"][col]\n",
    "    print(\n",
    "        f\"{col}: Control is {check_normality(control)} and Test is {check_normality(test)}\"\n",
    "    )"
   ]
  },
  {
   "cell_type": "markdown",
   "id": "8e44b52e",
   "metadata": {},
   "source": [
    "Now for the A/B test we will proceed as follows: \n",
    "Calculate Cohen's d to understand the size of the difference between the two groups\n",
    "Then calculate the \"ideal\" sample size to get an 80% power level, which is something that in an ideal scenario we'd do beforehand\n",
    "Then we run the A/B test that will use different test based on the normality and the variance of the samples\n",
    "Lastly we check the post-hoc statistical power, to see the probability of avoiding Type II error (so failing to reject the null Hypotesis when the alternative Hypotesis is true)."
   ]
  },
  {
   "cell_type": "markdown",
   "id": "56c0645c",
   "metadata": {},
   "source": [
    "#### **Spending**"
   ]
  },
  {
   "cell_type": "markdown",
   "id": "e88f390a",
   "metadata": {},
   "source": [
    "Null Hypothesis (H0): The two campaigns have equal mean.  \n",
    "Alternative Hypothesis (H1): Test campaign has higher mean than Control. "
   ]
  },
  {
   "cell_type": "code",
   "execution_count": 257,
   "id": "75af6e58",
   "metadata": {},
   "outputs": [
    {
     "name": "stdout",
     "output_type": "stream",
     "text": [
      "Cohen's d: 0.72\n",
      "Required sample size per group: 31\n",
      "actual sample size: 30\n",
      "spend_[usd]: 0.004249949725509847 and we Reject H0\n",
      "Power: 0.869\n"
     ]
    }
   ],
   "source": [
    "# check ideal sample size\n",
    "test = cleaned_df[cleaned_df[\"campaign_name\"] == \"Test Campaign\"]\n",
    "\n",
    "cohens_d = calculate_cohens_d(cleaned_df, 'spend_[usd]')\n",
    "\n",
    "ideal_sample_size(cohens_d) # we would run this before\n",
    "\n",
    "print(f'actual sample size: {len(test)}')\n",
    "\n",
    "ab_test(cleaned_df, \"spend_[usd]\", alt=\"less\")  # control < test\n",
    "\n",
    "post_hoc_power(cohens_d,test, alternative='larger') # we run this to verify after"
   ]
  },
  {
   "cell_type": "markdown",
   "id": "fce12ec2",
   "metadata": {},
   "source": [
    "From here we can conclude that we spend more in a statistically significant way for the test campaign than for the control campaing."
   ]
  },
  {
   "cell_type": "markdown",
   "id": "56a05a0e",
   "metadata": {},
   "source": [
    "#### **Reach**"
   ]
  },
  {
   "cell_type": "markdown",
   "id": "7356c9fb",
   "metadata": {},
   "source": [
    "Null Hypothesis (H0): The two campaigns have equal mean.  \n",
    "Alternative Hypothesis (H1): The Control campaign has higher mean than Test. "
   ]
  },
  {
   "cell_type": "code",
   "execution_count": 258,
   "id": "3831934d",
   "metadata": {},
   "outputs": [
    {
     "name": "stdout",
     "output_type": "stream",
     "text": [
      "Cohen's d: -1.39\n",
      "Required sample size per group: 9\n",
      "actual sample size: 30\n",
      "reach: 1.478305454743173e-06 and we Reject H0\n",
      "Power: 1.000\n"
     ]
    }
   ],
   "source": [
    "# check ideal sample size\n",
    "test = cleaned_df[cleaned_df[\"campaign_name\"] == \"Test Campaign\"]\n",
    "\n",
    "cohens_d = calculate_cohens_d(cleaned_df, 'reach')\n",
    "\n",
    "ideal_sample_size(cohens_d) # we would run this before\n",
    "\n",
    "print(f'actual sample size: {len(test)}')\n",
    "\n",
    "ab_test(cleaned_df, \"reach\", alt=\"greater\")  # control < test\n",
    "\n",
    "post_hoc_power(cohens_d,test, alternative='smaller') # we run this to verify after"
   ]
  },
  {
   "cell_type": "markdown",
   "id": "921bc6bd",
   "metadata": {},
   "source": [
    "From the results we can conclude that the control campaign has higher reach than the test campaign. "
   ]
  },
  {
   "cell_type": "markdown",
   "id": "9c9354f6",
   "metadata": {},
   "source": [
    "#### **Website Clicks**"
   ]
  },
  {
   "cell_type": "markdown",
   "id": "5b140aed",
   "metadata": {},
   "source": [
    "Null Hypothesis (H0): The two campaigns have equal mean.  \n",
    "Alternative Hypothesis (H1): The two campaigns have different mean. "
   ]
  },
  {
   "cell_type": "code",
   "execution_count": 259,
   "id": "6d896432",
   "metadata": {},
   "outputs": [
    {
     "name": "stdout",
     "output_type": "stream",
     "text": [
      "Cohen's d: 0.46\n",
      "Required sample size per group: 75\n",
      "actual sample size: 30\n",
      "website_clicks: 0.09489354683695694 and we Fail to Reject H0\n",
      "Power: 0.417\n"
     ]
    }
   ],
   "source": [
    "# check ideal sample size\n",
    "test = cleaned_df[cleaned_df[\"campaign_name\"] == \"Test Campaign\"]\n",
    "\n",
    "cohens_d = calculate_cohens_d(cleaned_df, 'website_clicks')\n",
    "\n",
    "ideal_sample_size(cohens_d) # we would run this before\n",
    "\n",
    "print(f'actual sample size: {len(test)}')\n",
    "\n",
    "ab_test(cleaned_df, \"website_clicks\", alt=\"two-sided\")\n",
    "\n",
    "post_hoc_power(cohens_d,test, alternative='two-sided') # we run this to verify after"
   ]
  },
  {
   "cell_type": "markdown",
   "id": "8e704991",
   "metadata": {},
   "source": [
    "From this test we do not have enough evidence to show any statistical difference in Website Clicks. The low power level shows that we also have a high chance of failing to reject H0, so it would be recommended to gather more data around this. "
   ]
  },
  {
   "cell_type": "markdown",
   "id": "95d03518",
   "metadata": {},
   "source": [
    "#### **Searches**"
   ]
  },
  {
   "cell_type": "markdown",
   "id": "abdf39ae",
   "metadata": {},
   "source": [
    "Null Hypothesis (H0): The two campaigns have equal mean.  \n",
    "Alternative Hypothesis (H1): The two campaigns have different mean. "
   ]
  },
  {
   "cell_type": "code",
   "execution_count": 260,
   "id": "5d32c9f0",
   "metadata": {},
   "outputs": [
    {
     "name": "stdout",
     "output_type": "stream",
     "text": [
      "Cohen's d: 0.48\n",
      "Required sample size per group: 70\n",
      "actual sample size: 30\n",
      "searches: 0.15723285240410945 and we Fail to Reject H0\n",
      "Power: 0.441\n"
     ]
    }
   ],
   "source": [
    "# check ideal sample size\n",
    "test = cleaned_df[cleaned_df[\"campaign_name\"] == \"Test Campaign\"]\n",
    "\n",
    "cohens_d = calculate_cohens_d(cleaned_df, 'searches')\n",
    "\n",
    "ideal_sample_size(cohens_d) # we would run this before\n",
    "\n",
    "print(f'actual sample size: {len(test)}')\n",
    "\n",
    "ab_test(cleaned_df, \"searches\", alt=\"two-sided\")\n",
    "\n",
    "post_hoc_power(cohens_d,test, alternative='two-sided') # we run this to verify after"
   ]
  },
  {
   "cell_type": "markdown",
   "id": "2fe4bf3c",
   "metadata": {},
   "source": [
    "From this test we do not have enough evidence to show any statistical difference in Searches. The low power level shows that we also have a high chance of failing to reject H0, so it would be recommended to gather more data around this. "
   ]
  },
  {
   "cell_type": "markdown",
   "id": "dc322492",
   "metadata": {},
   "source": [
    "#### **Add to Cart**"
   ]
  },
  {
   "cell_type": "markdown",
   "id": "af4d8262",
   "metadata": {},
   "source": [
    "Null Hypothesis (H0): The two campaigns have equal mean.  \n",
    "Alternative Hypothesis (H1): Control campaign has higher mean than Test. "
   ]
  },
  {
   "cell_type": "code",
   "execution_count": 261,
   "id": "221cda13",
   "metadata": {},
   "outputs": [
    {
     "name": "stdout",
     "output_type": "stream",
     "text": [
      "Cohen's d: -1.21\n",
      "Required sample size per group: 12\n",
      "actual sample size: 30\n",
      "add_to_cart: 0.00018825808192811678 and we Reject H0\n",
      "Power: 0.999\n"
     ]
    }
   ],
   "source": [
    "# check ideal sample size\n",
    "test = cleaned_df[cleaned_df[\"campaign_name\"] == \"Test Campaign\"]\n",
    "\n",
    "cohens_d = calculate_cohens_d(cleaned_df, 'add_to_cart')\n",
    "\n",
    "ideal_sample_size(cohens_d) # we would run this before\n",
    "\n",
    "print(f'actual sample size: {len(test)}')\n",
    "\n",
    "ab_test(cleaned_df, \"add_to_cart\", alt=\"greater\")  # control < test\n",
    "\n",
    "post_hoc_power(cohens_d,test, alternative='smaller') # we run this to verify after"
   ]
  },
  {
   "cell_type": "markdown",
   "id": "dde0a47f",
   "metadata": {},
   "source": [
    "From this we can see that the control group seems to have statistically higher \"add to cart\" compared to test."
   ]
  },
  {
   "cell_type": "markdown",
   "id": "74071a8d",
   "metadata": {},
   "source": [
    "#### **Purchases**"
   ]
  },
  {
   "cell_type": "markdown",
   "id": "5937f5ea",
   "metadata": {},
   "source": [
    "Null Hypothesis (H0): The two campaigns have equal mean.  \n",
    "Alternative Hypothesis (H1): The two campaigns have different mean. "
   ]
  },
  {
   "cell_type": "code",
   "execution_count": 262,
   "id": "75c4296c",
   "metadata": {},
   "outputs": [
    {
     "name": "stdout",
     "output_type": "stream",
     "text": [
      "Cohen's d: -0.02\n",
      "Required sample size per group: 64690\n",
      "actual sample size: 30\n",
      "purchase: 0.9299480870617278 and we Fail to Reject H0\n",
      "Power: 0.050\n"
     ]
    }
   ],
   "source": [
    "# check ideal sample size\n",
    "test = cleaned_df[cleaned_df[\"campaign_name\"] == \"Test Campaign\"]\n",
    "\n",
    "cohens_d = calculate_cohens_d(cleaned_df, 'purchase')\n",
    "\n",
    "ideal_sample_size(cohens_d) # we would run this before\n",
    "\n",
    "print(f'actual sample size: {len(test)}')\n",
    "\n",
    "ab_test(cleaned_df, \"purchase\", alt=\"two-sided\")\n",
    "\n",
    "post_hoc_power(cohens_d,test, alternative='two-sided') # we run this to verify after"
   ]
  },
  {
   "cell_type": "markdown",
   "id": "f768ca04",
   "metadata": {},
   "source": [
    "There is not enough data to reject H0 for the purchases, and we would need a much bigger sample size to increase the power for this variable. "
   ]
  },
  {
   "cell_type": "markdown",
   "id": "3df0ff05",
   "metadata": {},
   "source": [
    "#### **Checkout Conversion Rate**"
   ]
  },
  {
   "cell_type": "markdown",
   "id": "27c60753",
   "metadata": {},
   "source": [
    "Null Hypothesis (H0): The two campaigns have equal mean.  \n",
    "Alternative Hypothesis (H1): Test campaign has higher mean than Control. "
   ]
  },
  {
   "cell_type": "code",
   "execution_count": 263,
   "id": "776f4b7c",
   "metadata": {},
   "outputs": [
    {
     "name": "stdout",
     "output_type": "stream",
     "text": [
      "Cohen's d: 1.12\n",
      "Required sample size per group: 14\n",
      "actual sample size: 30\n",
      "checkout_conversion_rate: 4.436651229099713e-05 and we Reject H0\n",
      "Power: 0.996\n"
     ]
    }
   ],
   "source": [
    "# check ideal sample size\n",
    "test = cleaned_df[cleaned_df[\"campaign_name\"] == \"Test Campaign\"]\n",
    "\n",
    "cohens_d = calculate_cohens_d(cleaned_df, 'checkout_conversion_rate')\n",
    "\n",
    "ideal_sample_size(cohens_d) # we would run this before\n",
    "\n",
    "print(f'actual sample size: {len(test)}')\n",
    "\n",
    "ab_test(cleaned_df, \"checkout_conversion_rate\", alt=\"less\")  # control < test\n",
    "\n",
    "post_hoc_power(cohens_d,test, alternative='larger') # we run this to verify after"
   ]
  },
  {
   "cell_type": "markdown",
   "id": "d77dccfd",
   "metadata": {},
   "source": [
    "From this we can conclude that the new campaign seems to have a better conversion rate (cart to purchase) compared to the Control one"
   ]
  },
  {
   "cell_type": "markdown",
   "id": "c5b03dbf",
   "metadata": {},
   "source": [
    "# Conclusions"
   ]
  },
  {
   "cell_type": "markdown",
   "id": "a5a32701",
   "metadata": {},
   "source": [
    "From the A/B test we can observe that: \n",
    "1. Spending for the test campaign has increased\n",
    "2. The control campaing has higher reach and impressions\n",
    "3. The two campaigns show no difference in website clicks, searches or view content\n",
    "4. The Control group has higher \"add to cart\" values than the Test, but with no statistically significant changes in purchases (difficult to confirm due to low sample size)\n",
    "\n",
    "Given this data, it looks like the Test campaing **underperfomed on ROI metrics**, however it's notable that the overall conversion rate was substantially higher in the Test campaign. Given the Control campaign's broader reach, this might suggest that the **Test campaign has improved targeting** compared to the Control one. \n",
    "\n"
   ]
  }
 ],
 "metadata": {
  "kernelspec": {
   "display_name": "datascience",
   "language": "python",
   "name": "python3"
  },
  "language_info": {
   "codemirror_mode": {
    "name": "ipython",
    "version": 3
   },
   "file_extension": ".py",
   "mimetype": "text/x-python",
   "name": "python",
   "nbconvert_exporter": "python",
   "pygments_lexer": "ipython3",
   "version": "3.9.18"
  }
 },
 "nbformat": 4,
 "nbformat_minor": 5
}
